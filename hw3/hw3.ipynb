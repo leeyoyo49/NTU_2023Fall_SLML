{
 "cells": [
  {
   "cell_type": "markdown",
   "metadata": {},
   "source": [
    "# Question 1\n",
    "\n",
    "### Q1.1 使用One-hot Encoding建構資料變數。所有資料變數都要是Numpy Array。"
   ]
  },
  {
   "cell_type": "markdown",
   "metadata": {},
   "source": [
    "### Solve\n",
    "\n",
    "1. Import data\n",
    "\n",
    "2. Find x_train, which are fold <=6\n",
    "\n",
    "3. Separate name in x_train, eg.\"承恩\" -> “承”,“恩”,“承恩”, no change for 單名\n",
    "\n",
    "4. Check whether each feature appear less than 1 time, if so delete the feature.\n",
    "\n",
    "5. Now we get the feature list, which has size 1630 -> ['_Other_Feature_' '思' '安' ... '勒' '品嘉' '芷妘']\n",
    "\n",
    "6. Process the data into feature matrix\n",
    "\n",
    "    1. Check whether the name is in the feature list\n",
    "\n",
    "    2. Check whether the name has two characters, if so check both of them, whether they are in feature matrix.\n",
    "\n",
    "    3. If one condition didn't fulfill, set first column to 1, which is '_Other_Featuer_' = 1\n",
    "\n",
    "7. Then check its fold, put it to the right subset."
   ]
  },
  {
   "cell_type": "code",
   "execution_count": 1,
   "metadata": {},
   "outputs": [],
   "source": [
    "# import data\n",
    "import matplotlib.pyplot as plt\n",
    "import csv\n",
    "import numpy as np\n",
    "import pandas as pd\n",
    "\n",
    "f = open('ds/namesex_data_v2.csv', 'r', encoding='utf8')\n",
    "mydata = csv.DictReader(f)\n",
    "sexlist = []\n",
    "namelist = []\n",
    "foldlist = []\n",
    "for i, arow in enumerate(mydata):\n",
    "    sexlist.append(int(arow['sex'].strip()))\n",
    "    gname = arow['gname'].strip()\n",
    "    namelist.append(gname)\n",
    "    foldlist.append(int(arow['fold'].strip()))\n",
    "\n",
    "sexlist = np.asarray(sexlist)\n",
    "namelist = np.asarray(namelist)\n",
    "foldlist = np.asarray(foldlist)\n",
    "f.close()"
   ]
  },
  {
   "cell_type": "code",
   "execution_count": 2,
   "metadata": {},
   "outputs": [
    {
     "name": "stdout",
     "output_type": "stream",
     "text": [
      "1630\n",
      "['_Other_Feature_' '思' '安' ... '勒' '品嘉' '芷妘']\n"
     ]
    }
   ],
   "source": [
    "raw_x_train = []\n",
    "\n",
    "# get x_train\n",
    "# separate name, aka \"你好\" -> \"你\",\"好\",\"你好\"\n",
    "for sex,name,fold in zip(sexlist, namelist, foldlist):\n",
    "    if fold <= 6:\n",
    "        raw_x_train.append(name)\n",
    "        if(len(name)!=1):\n",
    "            raw_x_train.append(name[0])\n",
    "            raw_x_train.append(name[1])\n",
    "\n",
    "\n",
    "# Get feature list from training data (x_train), which are features that appear more than once\n",
    "# If a feature appears only once, it will be replaced by '_Other_Feature_'\n",
    "feature_list = pd.DataFrame(raw_x_train, columns=['name'])\n",
    "name_counts = feature_list['name'].value_counts()\n",
    "# Set feature that appears only once to '_Other_Feature_'\n",
    "feature_list['name'] = feature_list['name'].apply(lambda raw_x: '_Other_Feature_' if name_counts[raw_x] < 2 else raw_x)\n",
    "feature_list.drop_duplicates(subset=['name'], keep='first', inplace=True)\n",
    "feature_list = np.array(feature_list.values.tolist()).reshape(-1)\n",
    "feature_cnt = len(feature_list)\n",
    "\n",
    "print(feature_cnt)\n",
    "print(feature_list)"
   ]
  },
  {
   "cell_type": "code",
   "execution_count": 3,
   "metadata": {},
   "outputs": [],
   "source": [
    "# Process the original rawdata, convert it into feature vectors\n",
    "def to1hot(rawx, rawy):\n",
    "    x = []\n",
    "    y = []\n",
    "    for i in range(len(rawx)):\n",
    "        new_arr = np.zeros(feature_cnt)\n",
    "        fullnamepos = np.where(feature_list == rawx[i])\n",
    "\n",
    "        # if can't find the feature in feature_list, set '_Other_Feature_' feature to 1\n",
    "        if fullnamepos[0].size == 0:\n",
    "            new_arr[0] = 1\n",
    "        else:\n",
    "            new_arr[fullnamepos[0]] = 1\n",
    "\n",
    "        if len(rawx[i]) == 2:\n",
    "            separatenamepos1 = np.where(feature_list == rawx[i][0])\n",
    "            separatenamepos2 = np.where(feature_list == rawx[i][1])\n",
    "\n",
    "            # if can't find the feature in feature_list, set '_Other_Feature_' feature to 1\n",
    "            if separatenamepos1[0].size == 0:\n",
    "                new_arr[0] = 1\n",
    "            else:\n",
    "                new_arr[separatenamepos1[0]] = 1\n",
    "                \n",
    "            # if can't find the feature in feature_list, set '_Other_Feature_' feature to 1\n",
    "            if separatenamepos2[0].size == 0:\n",
    "                new_arr[0] = 1\n",
    "            else:\n",
    "                new_arr[separatenamepos2[0]] = 1\n",
    "                \n",
    "        x.append(new_arr)\n",
    "        y.append(rawy[i])\n",
    "    return np.asarray(x), np.asarray(y)"
   ]
  },
  {
   "cell_type": "code",
   "execution_count": 4,
   "metadata": {},
   "outputs": [
    {
     "data": {
      "text/plain": [
       "((7483, 1630),\n",
       " (7483,),\n",
       " (1064, 1630),\n",
       " (1064,),\n",
       " (1110, 1630),\n",
       " (1110,),\n",
       " (1073, 1630),\n",
       " (1073,))"
      ]
     },
     "execution_count": 4,
     "metadata": {},
     "output_type": "execute_result"
    }
   ],
   "source": [
    "# empty the original rawdata, since we don't need separate name anymore, we only need to check the fold.\n",
    "raw_x_train = []\n",
    "raw_y_train = []\n",
    "raw_x_valid = []\n",
    "raw_y_valid = []\n",
    "raw_x_stack = []\n",
    "raw_y_stack = []\n",
    "raw_x_test = []\n",
    "raw_y_test = []\n",
    "\n",
    "# Set the fold 0-6 as training data, 7 as validation data, 8 as stack data, 9 as test data\n",
    "for sex,name,fold in zip(sexlist, namelist, foldlist):\n",
    "    if fold <= 6:\n",
    "        raw_x_train.append(name)\n",
    "        raw_y_train.append(sex)\n",
    "    if fold == 7:\n",
    "        raw_x_valid.append(name)\n",
    "        raw_y_valid.append(sex)\n",
    "    if fold == 8:\n",
    "        raw_x_stack.append(name)\n",
    "        raw_y_stack.append(sex) \n",
    "    if fold == 9:\n",
    "        raw_x_test.append(name)\n",
    "        raw_y_test.append(sex)\n",
    "\n",
    "# Convert the rawdata into feature vectors\n",
    "x_train, y_train = to1hot(raw_x_train, raw_y_train)\n",
    "x_test, y_test = to1hot(raw_x_test, raw_y_test)\n",
    "x_valid, y_valid = to1hot(raw_x_valid, raw_y_valid)\n",
    "x_stack, y_stack = to1hot(raw_x_stack, raw_y_stack)\n",
    "\n",
    "x_train.shape, y_train.shape, x_test.shape, y_test.shape, x_valid.shape, y_valid.shape, x_stack.shape, y_stack.shape"
   ]
  },
  {
   "cell_type": "markdown",
   "metadata": {},
   "source": [
    "Then we can see: train has 7483 data, test has 1064, valid has 1110, stack has 1073"
   ]
  },
  {
   "cell_type": "markdown",
   "metadata": {},
   "source": [
    "### Q1.2 使用`sklearn.linear_model.LogisticRegression()`建構Logistic Regression分類模型"
   ]
  },
  {
   "cell_type": "markdown",
   "metadata": {},
   "source": [
    "### Solve \n",
    "\n",
    "Since Grid Search的小值為$10^{-4}$，最大值是$1,000$，總共取20個點，使用等比級數間隔。\n",
    "\n",
    "First, get grid search list, which are the regulaization coeff we want to try.\n",
    "\n",
    "Use `np.geomspace(1e-4, 1e3, num=20)` to get the list.\n",
    "\n",
    "Then try every coeff in the list, find the best model which has best f1\n"
   ]
  },
  {
   "cell_type": "code",
   "execution_count": 5,
   "metadata": {},
   "outputs": [],
   "source": [
    "from sklearn.linear_model import LogisticRegression\n",
    "from sklearn.metrics import f1_score, precision_score, recall_score"
   ]
  },
  {
   "cell_type": "code",
   "execution_count": 6,
   "metadata": {},
   "outputs": [
    {
     "name": "stdout",
     "output_type": "stream",
     "text": [
      "Best Regularization Coefficient (bestc): 78.47599703514607\n",
      "Best F1 Score: 0.8981132075471698\n",
      "Best Model: LogisticRegression(C=78.47599703514607, max_iter=10000)\n"
     ]
    }
   ],
   "source": [
    "# 定義Grid Search範圍，取20個點，使用等比級數間隔\n",
    "# 1m40s\n",
    "\n",
    "# Grid Search\n",
    "c_values = np.geomspace(1e-4, 1e3, num=20)\n",
    "best_f1 = -1\n",
    "best_c = -1\n",
    "bestmodel = None\n",
    "\n",
    "for c in c_values:\n",
    "    model = LogisticRegression(C=c, max_iter=10000)\n",
    "    model.fit(x_train, y_train)\n",
    "    y_pred = model.predict(x_valid)\n",
    "    f1 = f1_score(y_valid, y_pred)\n",
    "    \n",
    "    if f1 > best_f1:\n",
    "        best_f1 = f1\n",
    "        best_c = c\n",
    "        bestmodel = model\n",
    "\n",
    "\n",
    "print(\"Best Regularization Coefficient (bestc):\", best_c)\n",
    "print(\"Best F1 Score:\", best_f1)\n",
    "print(\"Best Model:\", bestmodel)\n"
   ]
  },
  {
   "cell_type": "markdown",
   "metadata": {},
   "source": [
    "We can see, the best c is 78.48, which has f1 = 0.9\n",
    "\n",
    "Now we combine training and validation to create new data set, train the best model again."
   ]
  },
  {
   "cell_type": "code",
   "execution_count": 7,
   "metadata": {},
   "outputs": [
    {
     "name": "stdout",
     "output_type": "stream",
     "text": [
      "Test F1 Score: 0.8761329305135951\n",
      "Test Accuracy: 0.8843984962406015\n",
      "Test Precision: 0.8596837944664032\n",
      "Test Recall: 0.893223819301848\n",
      "Top 20 Features index: [583, 1251, 1588, 834, 242, 1284, 31, 844, 1170, 463, 1480, 92, 527, 522, 1365, 704, 25, 803, 1133, 377]\n",
      "Top 20 Features' Names: ['傑', '森', '玲', '雯', '凌', '婷', '美', '萱', '鋒', '薇', '妤', '婕', '綾', '潔', '嵐', '絃', '卉', '靜', '松', '蓉']\n"
     ]
    }
   ],
   "source": [
    "# Get new data by combining training data and validation data\n",
    "x_trainandvalid = np.concatenate((x_train, x_valid), axis=0)\n",
    "y_trainandvalid = np.concatenate((y_train, y_valid), axis=0)\n",
    "\n",
    "# Train the model with best regularization coefficient\n",
    "BestLogisticModel = LogisticRegression(C=best_c, max_iter=10000)\n",
    "BestLogisticModel.fit(x_trainandvalid, y_trainandvalid)\n",
    "Log_y_pred = BestLogisticModel.predict(x_test)\n",
    "\n",
    "# Get the f1, accuracy, precision, recall of the model\n",
    "f1 = f1_score(y_test, Log_y_pred)\n",
    "acc = BestLogisticModel.score(x_test, y_test)\n",
    "precision = precision_score(y_test, Log_y_pred)\n",
    "recall = recall_score(y_test, Log_y_pred)\n",
    "\n",
    "# Get the top 20 features\n",
    "coef = np.abs(BestLogisticModel.coef_)\n",
    "coef = coef.flatten()\n",
    "sorted_indices = np.argsort(coef)[::-1]\n",
    "top_20_values = sorted_indices[sorted_indices[:20]]\n",
    "top_20_indices = sorted_indices[:20]\n",
    "\n",
    "\n",
    "print(\"Test F1 Score:\", f1)\n",
    "print(\"Test Accuracy:\", acc)\n",
    "print(\"Test Precision:\", precision)\n",
    "print(\"Test Recall:\", recall)\n",
    "print(\"Top 20 Features index:\", top_20_values.tolist())\n",
    "print(\"Top 20 Features' Names:\", feature_list[top_20_indices].tolist())"
   ]
  },
  {
   "cell_type": "markdown",
   "metadata": {},
   "source": [
    "### Q1.3 使用`sklearn.ensemble.RandomForestClassifier()`建構Random Forest分類模型\n",
    "\n",
    "Do things similar to the previous problem, except with different model"
   ]
  },
  {
   "cell_type": "code",
   "execution_count": 8,
   "metadata": {},
   "outputs": [
    {
     "name": "stdout",
     "output_type": "stream",
     "text": [
      "Best Number of Tress (i.e., n_estimators): 9\n",
      "Best F1 Score: 0.877025738798856\n",
      "Best Model: RandomForestClassifier(n_estimators=1000, random_state=42)\n"
     ]
    }
   ],
   "source": [
    "from sklearn.ensemble import RandomForestClassifier\n",
    "\n",
    "# 10-15 min\n",
    "\n",
    "# Grid Search\n",
    "n_estimator = np.geomspace(5, 1000, num=10, dtype=int)\n",
    "\n",
    "best_f1 = -1\n",
    "best_nest = -1\n",
    "bestmodel = None\n",
    "\n",
    "for n in n_estimator:\n",
    "    rf_model = RandomForestClassifier(n_estimators=n)\n",
    "    rf_model.fit(x_train, y_train)\n",
    "    y_pred = rf_model.predict(x_valid)\n",
    "    f1 = f1_score(y_valid, y_pred)\n",
    "    \n",
    "    if f1 > best_f1:\n",
    "        best_f1 = f1\n",
    "        best_nest = n\n",
    "        bestmodel = rf_model\n",
    "\n",
    "print(\"Best Number of Trees (i.e., n_estimators):\", best_nest)\n",
    "print(\"Best F1 Score:\", best_f1)\n",
    "print(\"Best Model:\", bestmodel)"
   ]
  },
  {
   "cell_type": "markdown",
   "metadata": {},
   "source": [
    "We can see the best number of trees is 9, which has F1 score of 0.88\n",
    "\n",
    "Now we train a new model with that number of tree and concatenated data set."
   ]
  },
  {
   "cell_type": "code",
   "execution_count": 9,
   "metadata": {},
   "outputs": [],
   "source": [
    "# Train best model with best number of trees\n",
    "BestRandomForestModel = RandomForestClassifier(n_estimators=best_nest)\n",
    "# Use training data and validation data to train the model\n",
    "BestRandomForestModel.fit(x_trainandvalid, y_trainandvalid)\n",
    "RF_y_pred = BestRandomForestModel.predict(x_test)"
   ]
  },
  {
   "cell_type": "code",
   "execution_count": 10,
   "metadata": {},
   "outputs": [
    {
     "name": "stdout",
     "output_type": "stream",
     "text": [
      "Test F1 Score: 0.8243512974051895\n",
      "Test Accuracy: 0.8345864661654135\n",
      "Test Precision: 0.8019417475728156\n",
      "Test Recall: 0.8480492813141683\n",
      "Top 20 Features index: [583, 1251, 1588, 834, 242, 1284, 31, 844, 1170, 463, 1480, 92, 527, 522, 1365, 704, 25, 803, 1133, 377]\n",
      "Top 20 Features' Names: ['妤', '翔', '萱', '柏', '婷', '承', '怡', '佳', '芸', '_Other_Feature_', '蓁', '涵', '晴', '瑄', '宜', '柔', '芷', '雅', '哲', '瑜']\n"
     ]
    }
   ],
   "source": [
    "# Get the f1, accuracy, precision, recall of the model\n",
    "f1 = f1_score(y_test, RF_y_pred)\n",
    "acc = BestRandomForestModel.score(x_test, y_test)\n",
    "precision = precision_score(y_test, RF_y_pred)\n",
    "recall = recall_score(y_test, RF_y_pred)\n",
    "\n",
    "# Get the top 20 features\n",
    "feature_importances = BestRandomForestModel.feature_importances_\n",
    "sorted_indices = np.argsort(feature_importances)[::-1]\n",
    "top_20_importances = feature_importances[sorted_indices[:20]]\n",
    "top_20_indices = sorted_indices[:20]\n",
    "top_20_feature_names = [feature_list[i] for i in top_20_indices]\n",
    "\n",
    "print(\"Test F1 Score:\", f1)\n",
    "print(\"Test Accuracy:\", acc)\n",
    "print(\"Test Precision:\", precision)\n",
    "print(\"Test Recall:\", recall)\n",
    "print(\"Top 20 Features index:\", top_20_values.tolist())\n",
    "print(\"Top 20 Features' Names:\", feature_list[top_20_indices].tolist())"
   ]
  },
  {
   "cell_type": "markdown",
   "metadata": {},
   "source": [
    "### Q1.4 使用`sklearn.ensemble.GradientBoostingClassifier()`建構Gradient Boosting Decision Tree (GBDT)分類模型\n",
    "\n",
    "### Solve\n",
    "\n",
    "There are two parameters to worry about, which are learning rate and n_estimator.\n",
    "\n",
    "Since for GBDT model, we can see the result of all estimators with less than the max estimator value.\n",
    "\n",
    "We only need to set `n_estimators=1500` to do the job, then check every learning rate.\n",
    "\n",
    "After training each model with 1500 estimators, we iterate through count of estimators and check it's f1_score with `for stage, predictions in enumerate(gbdt.staged_predict(x_valid)):`\n",
    "\n",
    "Then after getting the best f1 and lr, we train again with concatenated data set."
   ]
  },
  {
   "cell_type": "code",
   "execution_count": 11,
   "metadata": {},
   "outputs": [],
   "source": [
    "from sklearn.ensemble import GradientBoostingClassifier\n",
    "\n",
    "n_estimators = 1500\n",
    "learning_rates = [.1, .5, 1]\n",
    "f1_scores = []\n",
    "best_lr = -1\n",
    "best_nstg = -1\n",
    "bestf1 = -1\n",
    "\n",
    "\n",
    "for learning_rate in learning_rates:\n",
    "    f1_scores_this_rnd = []\n",
    "    gbdt = GradientBoostingClassifier(n_estimators=n_estimators, learning_rate=learning_rate)\n",
    "    gbdt.fit(x_train, y_train)\n",
    "\n",
    "    # Get the f1 score of each stage\n",
    "    for stage, predictions in enumerate(gbdt.staged_predict(x_valid)):\n",
    "        f1 = f1_score(y_valid, predictions)\n",
    "        f1_scores_this_rnd.append(f1)\n",
    "        if best_f1 < f1:\n",
    "            best_f1 = f1\n",
    "            best_lr = learning_rate\n",
    "            best_nstg = stage\n",
    "    f1_scores.append(f1_scores_this_rnd)\n"
   ]
  },
  {
   "cell_type": "code",
   "execution_count": 12,
   "metadata": {},
   "outputs": [
    {
     "data": {
      "image/png": "[encoded data removed]",
      "text/plain": [
       "<Figure size 640x480 with 1 Axes>"
      ]
     },
     "metadata": {},
     "output_type": "display_data"
    },
    {
     "name": "stdout",
     "output_type": "stream",
     "text": [
      "Best Learning Rate (best_lr): 0.1\n",
      "Best Number of Stages (best_nstg): 927\n"
     ]
    }
   ],
   "source": [
    "# Plot the F-1 scores for different learning rates\n",
    "plt.figure()\n",
    "for i, lr in enumerate(learning_rates):\n",
    "    plt.plot(range(1,n_estimators+1), f1_scores[i], label=f'LR={lr}')\n",
    "plt.xlabel('Number of Stages')\n",
    "plt.ylabel('Validation F-1 Score')\n",
    "plt.legend()\n",
    "plt.title('Validation F-1 Score for Different Learning Rates')\n",
    "plt.show()\n",
    "\n",
    "print(\"Best Learning Rate (best_lr):\", best_lr)\n",
    "print(\"Best Number of Stages (best_nstg):\", best_nstg)"
   ]
  },
  {
   "cell_type": "code",
   "execution_count": 13,
   "metadata": {},
   "outputs": [],
   "source": [
    "BestGBDTModel = GradientBoostingClassifier(learning_rate=best_lr, n_estimators=best_nstg)\n",
    "BestGBDTModel.fit(x_trainandvalid, y_trainandvalid)\n",
    "GBDT_y_pred = BestGBDTModel.predict(x_test)"
   ]
  },
  {
   "cell_type": "code",
   "execution_count": 14,
   "metadata": {},
   "outputs": [
    {
     "name": "stdout",
     "output_type": "stream",
     "text": [
      "Test F1 Score: 0.8593749999999999\n",
      "Test Accuracy: 0.8646616541353384\n",
      "Test Precision: 0.819366852886406\n",
      "Test Recall: 0.9034907597535934\n",
      "Top 20 Features index: [583, 1251, 1588, 834, 242, 1284, 31, 844, 1170, 463, 1480, 92, 527, 522, 1365, 704, 25, 803, 1133, 377]\n",
      "Top 20 Features' Names: ['妤', '翔', '萱', '柏', '婷', '承', '怡', '佳', '芸', '_Other_Feature_', '蓁', '涵', '晴', '瑄', '宜', '柔', '芷', '雅', '哲', '瑜']\n"
     ]
    }
   ],
   "source": [
    "from sklearn.metrics import accuracy_score\n",
    "\n",
    "f1 = f1_score(y_test, GBDT_y_pred)\n",
    "acc = accuracy_score(y_test, GBDT_y_pred)\n",
    "precision = precision_score(y_test, GBDT_y_pred)\n",
    "recall = recall_score(y_test, GBDT_y_pred)\n",
    "\n",
    "sorted_indices = np.argsort(feature_importances)[::-1]\n",
    "top_20_importances = feature_importances[sorted_indices[:20]]\n",
    "top_20_indices = sorted_indices[:20]\n",
    "top_20_feature_names = [feature_list[i] for i in top_20_indices]\n",
    "\n",
    "\n",
    "print(\"Test F1 Score:\", f1)\n",
    "print(\"Test Accuracy:\", acc)\n",
    "print(\"Test Precision:\", precision)\n",
    "print(\"Test Recall:\", recall)\n",
    "print(\"Top 20 Features index:\", top_20_values.tolist())\n",
    "print(\"Top 20 Features' Names:\", feature_list[top_20_indices].tolist())"
   ]
  },
  {
   "cell_type": "markdown",
   "metadata": {},
   "source": [
    "### Q1.5 組合(Stacking)成一個新的分類器\n",
    "\n",
    "### Solve\n",
    "\n",
    "Get probability after predicting male (sex = 1) for each models.\n",
    "\n",
    "Then concatenate into a new data set, and start training."
   ]
  },
  {
   "cell_type": "code",
   "execution_count": 21,
   "metadata": {},
   "outputs": [
    {
     "data": {
      "text/html": [
       "<style>#sk-container-id-2 {color: black;}#sk-container-id-2 pre{padding: 0;}#sk-container-id-2 div.sk-toggleable {background-color: white;}#sk-container-id-2 label.sk-toggleable__label {cursor: pointer;display: block;width: 100%;margin-bottom: 0;padding: 0.3em;box-sizing: border-box;text-align: center;}#sk-container-id-2 label.sk-toggleable__label-arrow:before {content: \"▸\";float: left;margin-right: 0.25em;color: #696969;}#sk-container-id-2 label.sk-toggleable__label-arrow:hover:before {color: black;}#sk-container-id-2 div.sk-estimator:hover label.sk-toggleable__label-arrow:before {color: black;}#sk-container-id-2 div.sk-toggleable__content {max-height: 0;max-width: 0;overflow: hidden;text-align: left;background-color: #f0f8ff;}#sk-container-id-2 div.sk-toggleable__content pre {margin: 0.2em;color: black;border-radius: 0.25em;background-color: #f0f8ff;}#sk-container-id-2 input.sk-toggleable__control:checked~div.sk-toggleable__content {max-height: 200px;max-width: 100%;overflow: auto;}#sk-container-id-2 input.sk-toggleable__control:checked~label.sk-toggleable__label-arrow:before {content: \"▾\";}#sk-container-id-2 div.sk-estimator input.sk-toggleable__control:checked~label.sk-toggleable__label {background-color: #d4ebff;}#sk-container-id-2 div.sk-label input.sk-toggleable__control:checked~label.sk-toggleable__label {background-color: #d4ebff;}#sk-container-id-2 input.sk-hidden--visually {border: 0;clip: rect(1px 1px 1px 1px);clip: rect(1px, 1px, 1px, 1px);height: 1px;margin: -1px;overflow: hidden;padding: 0;position: absolute;width: 1px;}#sk-container-id-2 div.sk-estimator {font-family: monospace;background-color: #f0f8ff;border: 1px dotted black;border-radius: 0.25em;box-sizing: border-box;margin-bottom: 0.5em;}#sk-container-id-2 div.sk-estimator:hover {background-color: #d4ebff;}#sk-container-id-2 div.sk-parallel-item::after {content: \"\";width: 100%;border-bottom: 1px solid gray;flex-grow: 1;}#sk-container-id-2 div.sk-label:hover label.sk-toggleable__label {background-color: #d4ebff;}#sk-container-id-2 div.sk-serial::before {content: \"\";position: absolute;border-left: 1px solid gray;box-sizing: border-box;top: 0;bottom: 0;left: 50%;z-index: 0;}#sk-container-id-2 div.sk-serial {display: flex;flex-direction: column;align-items: center;background-color: white;padding-right: 0.2em;padding-left: 0.2em;position: relative;}#sk-container-id-2 div.sk-item {position: relative;z-index: 1;}#sk-container-id-2 div.sk-parallel {display: flex;align-items: stretch;justify-content: center;background-color: white;position: relative;}#sk-container-id-2 div.sk-item::before, #sk-container-id-2 div.sk-parallel-item::before {content: \"\";position: absolute;border-left: 1px solid gray;box-sizing: border-box;top: 0;bottom: 0;left: 50%;z-index: -1;}#sk-container-id-2 div.sk-parallel-item {display: flex;flex-direction: column;z-index: 1;position: relative;background-color: white;}#sk-container-id-2 div.sk-parallel-item:first-child::after {align-self: flex-end;width: 50%;}#sk-container-id-2 div.sk-parallel-item:last-child::after {align-self: flex-start;width: 50%;}#sk-container-id-2 div.sk-parallel-item:only-child::after {width: 0;}#sk-container-id-2 div.sk-dashed-wrapped {border: 1px dashed gray;margin: 0 0.4em 0.5em 0.4em;box-sizing: border-box;padding-bottom: 0.4em;background-color: white;}#sk-container-id-2 div.sk-label label {font-family: monospace;font-weight: bold;display: inline-block;line-height: 1.2em;}#sk-container-id-2 div.sk-label-container {text-align: center;}#sk-container-id-2 div.sk-container {/* jupyter's `normalize.less` sets `[hidden] { display: none; }` but bootstrap.min.css set `[hidden] { display: none !important; }` so we also need the `!important` here to be able to override the default hidden behavior on the sphinx rendered scikit-learn.org. See: https://github.com/scikit-learn/scikit-learn/issues/21755 */display: inline-block !important;position: relative;}#sk-container-id-2 div.sk-text-repr-fallback {display: none;}</style><div id=\"sk-container-id-2\" class=\"sk-top-container\"><div class=\"sk-text-repr-fallback\"><pre>LogisticRegression(max_iter=10000, penalty=None)</pre><b>In a Jupyter environment, please rerun this cell to show the HTML representation or trust the notebook. <br />On GitHub, the HTML representation is unable to render, please try loading this page with nbviewer.org.</b></div><div class=\"sk-container\" hidden><div class=\"sk-item\"><div class=\"sk-estimator sk-toggleable\"><input class=\"sk-toggleable__control sk-hidden--visually\" id=\"sk-estimator-id-2\" type=\"checkbox\" checked><label for=\"sk-estimator-id-2\" class=\"sk-toggleable__label sk-toggleable__label-arrow\">LogisticRegression</label><div class=\"sk-toggleable__content\"><pre>LogisticRegression(max_iter=10000, penalty=None)</pre></div></div></div></div></div>"
      ],
      "text/plain": [
       "LogisticRegression(max_iter=10000, penalty=None)"
      ]
     },
     "execution_count": 21,
     "metadata": {},
     "output_type": "execute_result"
    }
   ],
   "source": [
    "Log_y_pred_stack = BestLogisticModel.predict_proba(x_stack)[:,1]\n",
    "RF_y_pred_stack = BestRandomForestModel.predict_proba(x_stack)[:,1]\n",
    "GBDT_y_pred_stack = BestGBDTModel.predict_proba(x_stack)[:,1]\n",
    "processed_x_stack = np.concatenate((Log_y_pred_stack.reshape(-1,1), RF_y_pred_stack.reshape(-1,1), GBDT_y_pred_stack.reshape(-1,1)), axis=1)\n",
    "\n",
    "LosgisticStackModel = LogisticRegression(max_iter=10000, penalty=None)\n",
    "LosgisticStackModel.fit(processed_x_stack, y_stack)\n"
   ]
  },
  {
   "cell_type": "code",
   "execution_count": 24,
   "metadata": {},
   "outputs": [
    {
     "name": "stdout",
     "output_type": "stream",
     "text": [
      "Test F1 Score: 0.8771228771228771\n",
      "Test Accuracy: 0.8843984962406015\n",
      "Test Precision: 0.8540856031128404\n",
      "Test Recall: 0.9014373716632443\n",
      "Coefficientes: [[3.06306823 0.35647475 4.59791094]]\n"
     ]
    }
   ],
   "source": [
    "Log_y_pred_test = BestLogisticModel.predict_proba(x_test)[:,1]\n",
    "RF_y_pred_test = BestRandomForestModel.predict_proba(x_test)[:,1]\n",
    "GBDT_y_pred_test = BestGBDTModel.predict_proba(x_test)[:,1]\n",
    "processed_x_test = np.concatenate((Log_y_pred_test.reshape(-1,1), RF_y_pred_test.reshape(-1,1), GBDT_y_pred_test.reshape(-1,1)), axis=1)\n",
    "\n",
    "# print(processed_x_stack)\n",
    "y_pred = LosgisticStackModel.predict(processed_x_test)\n",
    "f1 = f1_score(y_test, y_pred)\n",
    "acc = LosgisticStackModel.score(processed_x_test, y_test)\n",
    "precision = precision_score(y_test, y_pred)\n",
    "recall = recall_score(y_test, y_pred)\n",
    "\n",
    "print(\"Test F1 Score:\", f1)\n",
    "print(\"Test Accuracy:\", acc)\n",
    "print(\"Test Precision:\", precision)\n",
    "print(\"Test Recall:\", recall)\n",
    "print(\"Coefficientes:\", LosgisticStackModel.coef_)"
   ]
  },
  {
   "cell_type": "markdown",
   "metadata": {},
   "source": [
    "We can see that the result of this model is pretty good.\n",
    "\n",
    "The weight for logistic regression is 3.06, Random Forest is 0.36, GBDT is 4.6\n",
    "\n",
    "We can see that if GBDT has highest value, meaning among the three models, it's the one who mostly predicts the best.\n",
    "\n",
    "Then for logistic regression, it has the second highest value, it's also a pretty good model as well.\n",
    "\n",
    "However, for Random Forest has the lowest of three, meaning the value of it doesn't affect much for the whole model."
   ]
  },
  {
   "cell_type": "markdown",
   "metadata": {},
   "source": [
    "# Question 2"
   ]
  },
  {
   "cell_type": "markdown",
   "metadata": {},
   "source": [
    "### Q2.1\n"
   ]
  },
  {
   "cell_type": "code",
   "execution_count": null,
   "metadata": {},
   "outputs": [],
   "source": []
  }
 ],
 "metadata": {
  "kernelspec": {
   "display_name": "slml-JC0Nopl2-py3.11",
   "language": "python",
   "name": "python3"
  },
  "language_info": {
   "codemirror_mode": {
    "name": "ipython",
    "version": 3
   },
   "file_extension": ".py",
   "mimetype": "text/x-python",
   "name": "python",
   "nbconvert_exporter": "python",
   "pygments_lexer": "ipython3",
   "version": "3.11.3"
  }
 },
 "nbformat": 4,
 "nbformat_minor": 2
}
